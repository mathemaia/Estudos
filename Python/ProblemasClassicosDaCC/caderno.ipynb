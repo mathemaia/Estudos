{
 "cells": [
  {
   "cell_type": "markdown",
   "metadata": {},
   "source": [
    "# Capitulo 1"
   ]
  },
  {
   "cell_type": "code",
   "execution_count": 1,
   "metadata": {},
   "outputs": [
    {
     "data": {
      "text/plain": [
       "5"
      ]
     },
     "execution_count": 26,
     "metadata": {},
     "output_type": "execute_result"
    }
   ],
   "source": [
    "# Permite definir o tipo gerador a um objeto\n",
    "from typing import Generator\n",
    "# Permite definir o tipo dos valores e chaves do dicionário\n",
    "from typing import Dict\n",
    "# Permite gravar dados em cache\n",
    "from functools import lru_cache\n",
    "\n",
    "\n",
    "# Fibonnaci sem memoization\n",
    "def fib2(n: int) -> int:\n",
    "    if n < 2:\n",
    "        return n\n",
    "    return fib2(n - 1) + fib2(n - 2)\n",
    "\n",
    "# Fibonacci com memoization\n",
    "memo: Dict[int, int] = {0: 0, 1: 1}\n",
    "def  fib3(n: int) -> int:\n",
    "    if n not in memo:\n",
    "        memo[n] = fib3(n - 1) + fib3(n - 2)\n",
    "    return memo[n]\n",
    "\n",
    "# Fibonacci com memoization automática\n",
    "@lru_cache(maxsize=None)\n",
    "def fib4(n: int) -> int:\n",
    "    if n < 2:\n",
    "        return n\n",
    "    return fib4(n - 1) + fib4(n - 2)\n",
    "\n",
    "# Fibonacci com iteração\n",
    "def fib5(n: int) -> int:\n",
    "    if n == 0: \n",
    "        return n\n",
    "    anterior: int = 0\n",
    "    posterior: int = 1\n",
    "    for _ in range(1, n):\n",
    "        anterior, posterior = (posterior, anterior + posterior)\n",
    "    return posterior\n",
    "\n",
    "# Fibonacci com gerador\n",
    "def fib6(n: int) -> Generator[int, None, None]:\n",
    "    if n == 0:\n",
    "        yield 0\n",
    "    anterior: int = 0\n",
    "    posterior: int = 1\n",
    "    for _ in range(1, n):\n",
    "        anterior, posterior = posterior, anterior + posterior\n",
    "    yield posterior\n",
    "\n",
    "\n",
    "fib5(5)\n"
   ]
  },
  {
   "cell_type": "code",
   "execution_count": 25,
   "metadata": {},
   "outputs": [
    {
     "name": "stdout",
     "output_type": "stream",
     "text": [
      "1\n"
     ]
    }
   ],
   "source": [
    "n1: int = 0\n",
    "n2: int = 1\n",
    "\n",
    "n1, n2 = (n2, n1 + n2)\n",
    "\n",
    "print(n1)"
   ]
  }
 ],
 "metadata": {
  "kernelspec": {
   "display_name": "Python 3.10.6 64-bit",
   "language": "python",
   "name": "python3"
  },
  "language_info": {
   "codemirror_mode": {
    "name": "ipython",
    "version": 3
   },
   "file_extension": ".py",
   "mimetype": "text/x-python",
   "name": "python",
   "nbconvert_exporter": "python",
   "pygments_lexer": "ipython3",
   "version": "3.10.6"
  },
  "orig_nbformat": 4,
  "vscode": {
   "interpreter": {
    "hash": "916dbcbb3f70747c44a77c7bcd40155683ae19c65e1c03b4aa3499c5328201f1"
   }
  }
 },
 "nbformat": 4,
 "nbformat_minor": 2
}
