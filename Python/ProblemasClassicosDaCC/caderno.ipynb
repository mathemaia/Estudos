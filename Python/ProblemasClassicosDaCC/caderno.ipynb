{
 "cells": [
  {
   "cell_type": "markdown",
   "metadata": {},
   "source": [
    "# Capitulo 1"
   ]
  },
  {
   "cell_type": "markdown",
   "metadata": {},
   "source": [
    "Otimização do algoritmo que cria a sequência de Fibonacci"
   ]
  },
  {
   "cell_type": "code",
   "execution_count": 3,
   "metadata": {},
   "outputs": [],
   "source": [
    "# Permite definir o tipo gerador a um objeto\n",
    "from typing import Generator\n",
    "# Permite definir o tipo dos valores e chaves do dicionário\n",
    "from typing import Dict\n",
    "# Permite gravar dados em cache\n",
    "from functools import lru_cache\n",
    "\n",
    "\n",
    "# Fibonnaci sem memoization\n",
    "def fib2(n: int) -> int:\n",
    "    if n < 2:\n",
    "        return n\n",
    "    return fib2(n - 1) + fib2(n - 2)\n",
    "\n",
    "# Fibonacci com memoization\n",
    "memo: Dict[int, int] = {0: 0, 1: 1}\n",
    "def  fib3(n: int) -> int:\n",
    "    if n not in memo:\n",
    "        memo[n] = fib3(n - 1) + fib3(n - 2)\n",
    "    return memo[n]\n",
    "\n",
    "# Fibonacci com memoization automática\n",
    "@lru_cache(maxsize=None)\n",
    "def fib4(n: int) -> int:\n",
    "    if n < 2:\n",
    "        return n\n",
    "    return fib4(n - 1) + fib4(n - 2)\n",
    "\n",
    "# Fibonacci com iteração\n",
    "def fib5(n: int) -> int:\n",
    "    if n == 0: \n",
    "        return n\n",
    "    anterior: int = 0\n",
    "    posterior: int = 1\n",
    "    for _ in range(1, n):\n",
    "        anterior, posterior = (posterior, anterior + posterior)\n",
    "    return posterior\n",
    "\n",
    "# Fibonacci com gerador\n",
    "def fib6(n: int) -> Generator[int, None, None]:\n",
    "    if n == 0:\n",
    "        yield 0\n",
    "    anterior: int = 0\n",
    "    posterior: int = 1\n",
    "    for _ in range(1, n):\n",
    "        anterior, posterior = posterior, anterior + posterior\n",
    "    yield posterior\n"
   ]
  },
  {
   "cell_type": "markdown",
   "metadata": {},
   "source": [
    "Trabalha a compressão de dados com operações bit a bit. Os nucleotideos inseridos são transformados em uma dupla de bits e são acrescentados em uma cadeia de bits. "
   ]
  },
  {
   "cell_type": "code",
   "execution_count": 4,
   "metadata": {},
   "outputs": [
    {
     "ename": "KeyboardInterrupt",
     "evalue": "",
     "output_type": "error",
     "traceback": [
      "\u001b[0;31m---------------------------------------------------------------------------\u001b[0m",
      "\u001b[0;31mKeyboardInterrupt\u001b[0m                         Traceback (most recent call last)",
      "Cell \u001b[0;32mIn [4], line 72\u001b[0m\n\u001b[1;32m     69\u001b[0m \u001b[39mfrom\u001b[39;00m \u001b[39msys\u001b[39;00m \u001b[39mimport\u001b[39;00m getsizeof\n\u001b[1;32m     71\u001b[0m original: \u001b[39mstr\u001b[39m \u001b[39m=\u001b[39m \u001b[39m'\u001b[39m\u001b[39mACGTAGTCCGTACGTAGTCCGTACGTACGTAGTCCACGTT\u001b[39m\u001b[39m'\u001b[39m \u001b[39m*\u001b[39m \u001b[39m100000\u001b[39m\n\u001b[0;32m---> 72\u001b[0m compressed: CompressedGene \u001b[39m=\u001b[39m CompressedGene(original)\n\u001b[1;32m     74\u001b[0m \u001b[39mprint\u001b[39m(\u001b[39mf\u001b[39m\u001b[39m'\u001b[39m\u001b[39moriginal: \u001b[39m\u001b[39m{\u001b[39;00mgetsizeof(original)\u001b[39m}\u001b[39;00m\u001b[39m bytes\u001b[39m\u001b[39m'\u001b[39m)\n\u001b[1;32m     75\u001b[0m \u001b[39mprint\u001b[39m(\u001b[39mf\u001b[39m\u001b[39m'\u001b[39m\u001b[39mcompressed: \u001b[39m\u001b[39m{\u001b[39;00mgetsizeof(compressed\u001b[39m.\u001b[39mbit_string)\u001b[39m}\u001b[39;00m\u001b[39m bytes\u001b[39m\u001b[39m'\u001b[39m)\n",
      "Cell \u001b[0;32mIn [4], line 3\u001b[0m, in \u001b[0;36mCompressedGene.__init__\u001b[0;34m(self, gene)\u001b[0m\n\u001b[1;32m      2\u001b[0m \u001b[39mdef\u001b[39;00m \u001b[39m__init__\u001b[39m(\u001b[39mself\u001b[39m, gene: \u001b[39mstr\u001b[39m) \u001b[39m-\u001b[39m\u001b[39m>\u001b[39m \u001b[39mNone\u001b[39;00m:\n\u001b[0;32m----> 3\u001b[0m     \u001b[39mself\u001b[39;49m\u001b[39m.\u001b[39;49m_compress(gene)\n",
      "Cell \u001b[0;32mIn [4], line 22\u001b[0m, in \u001b[0;36mCompressedGene._compress\u001b[0;34m(self, gene)\u001b[0m\n\u001b[1;32m     19\u001b[0m \u001b[39mself\u001b[39m\u001b[39m.\u001b[39mbit_string \u001b[39m<<\u001b[39m\u001b[39m=\u001b[39m \u001b[39m2\u001b[39m\n\u001b[1;32m     21\u001b[0m \u001b[39m# Muda os dois últimos bits para 00\u001b[39;00m\n\u001b[0;32m---> 22\u001b[0m \u001b[39mif\u001b[39;00m nucleotide \u001b[39m==\u001b[39m \u001b[39m'\u001b[39m\u001b[39mA\u001b[39m\u001b[39m'\u001b[39m:\n\u001b[1;32m     23\u001b[0m     \u001b[39mself\u001b[39m\u001b[39m.\u001b[39mbit_string \u001b[39m|\u001b[39m\u001b[39m=\u001b[39m \u001b[39m0b00\u001b[39m\n\u001b[1;32m     24\u001b[0m \u001b[39m# Muda os dois últimos bits para 01\u001b[39;00m\n",
      "\u001b[0;31mKeyboardInterrupt\u001b[0m: "
     ]
    }
   ],
   "source": [
    "class CompressedGene:\n",
    "    def __init__(self, gene: str) -> None:\n",
    "        self._compress(gene)\n",
    "\n",
    "\n",
    "    def __str__(self) -> str:\n",
    "        '''Faz a representação em string do objeto'''\n",
    "        return (self.decompress()) \n",
    "\n",
    "\n",
    "    def _compress(self, gene: str):\n",
    "        '''Recebe uma str de nucleotídeos e os armazena como uma cadeia de bits'''\n",
    "\n",
    "        # Começa com uma sentila\n",
    "        self.bit_string: int = 1\n",
    "\n",
    "        for nucleotide in gene.upper():\n",
    "            # Desloca dois bits à esquerda\n",
    "            self.bit_string <<= 2\n",
    "\n",
    "            # Muda os dois últimos bits para 00\n",
    "            if nucleotide == 'A':\n",
    "                self.bit_string |= 0b00\n",
    "            # Muda os dois últimos bits para 01\n",
    "            elif nucleotide == 'C':\n",
    "                self.bit_string |= 0b01\n",
    "            # Muda os dois últimos bits para 10\n",
    "            elif nucleotide == 'G':\n",
    "                self.bit_string |= 0b10\n",
    "            # Muda os dois últimos bits para 11\n",
    "            elif nucleotide == 'T':\n",
    "                self.bit_string|= 0b11\n",
    "            else:\n",
    "                raise ValueError(f'Invalid Nucleotide: {nucleotide}')\n",
    "    \n",
    "\n",
    "    def decompress(self) -> str:\n",
    "        '''Descompacta o nucleotídeo já compressado'''\n",
    "\n",
    "        gene: str = ''\n",
    "        \n",
    "        # -1 para excluir a sentinela\n",
    "        for i in range(0, self.bit_string.bit_length() - 1, 2):\n",
    "\n",
    "            # Obtém apenas os dois bits mais relevantes\n",
    "            bits: int = self.bit_string >> i & 0b11\n",
    "            \n",
    "            # A\n",
    "            if bits == 0b00:\n",
    "                gene += 'A'\n",
    "            # C\n",
    "            elif bits == 0b01:\n",
    "                gene += 'C'\n",
    "            # G\n",
    "            elif bits == 0b10:\n",
    "                gene += 'G'\n",
    "            # T\n",
    "            elif bits == 0b11:\n",
    "                gene += 'T'\n",
    "            else:\n",
    "                raise ValueError(f'Invalid bits: {bits}')\n",
    "        \n",
    "        # Retorna a string invertida usando fatiamento \n",
    "        return gene[::-1]\n",
    "\n",
    "\n",
    "if __name__ == '__main__':\n",
    "    # Permite saber quantos bits uma variavel ou objeto ocupa\n",
    "    from sys import getsizeof\n",
    "\n",
    "    original: str = 'ACGTAGTCCGTACGTAGTCCGTACGTACGTAGTCCACGTT' * 100000\n",
    "    compressed: CompressedGene = CompressedGene(original)\n",
    "\n",
    "    print(f'original: {getsizeof(original)} bytes')\n",
    "    print(f'compressed: {getsizeof(compressed.bit_string)} bytes')"
   ]
  },
  {
   "cell_type": "code",
   "execution_count": 9,
   "metadata": {},
   "outputs": [
    {
     "data": {
      "text/plain": [
       "45"
      ]
     },
     "execution_count": 9,
     "metadata": {},
     "output_type": "execute_result"
    }
   ],
   "source": [
    "import numpy as np\n",
    "\n",
    "np.dot(5, 9)"
   ]
  },
  {
   "cell_type": "code",
   "execution_count": null,
   "metadata": {},
   "outputs": [],
   "source": []
  }
 ],
 "metadata": {
  "kernelspec": {
   "display_name": "Python 3.10.6 64-bit",
   "language": "python",
   "name": "python3"
  },
  "language_info": {
   "codemirror_mode": {
    "name": "ipython",
    "version": 3
   },
   "file_extension": ".py",
   "mimetype": "text/x-python",
   "name": "python",
   "nbconvert_exporter": "python",
   "pygments_lexer": "ipython3",
   "version": "3.10.6"
  },
  "orig_nbformat": 4,
  "vscode": {
   "interpreter": {
    "hash": "916dbcbb3f70747c44a77c7bcd40155683ae19c65e1c03b4aa3499c5328201f1"
   }
  }
 },
 "nbformat": 4,
 "nbformat_minor": 2
}
