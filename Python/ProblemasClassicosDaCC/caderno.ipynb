{
 "cells": [
  {
   "cell_type": "markdown",
   "metadata": {},
   "source": [
    "# Capitulo 1"
   ]
  },
  {
   "cell_type": "markdown",
   "metadata": {},
   "source": [
    "Otimização do algoritmo que cria a sequência de Fibonacci"
   ]
  },
  {
   "cell_type": "code",
   "execution_count": 6,
   "metadata": {},
   "outputs": [],
   "source": [
    "# Permite definir o tipo gerador a um objeto\n",
    "from typing import Generator\n",
    "# Permite definir o tipo dos valores e chaves do dicionário\n",
    "from typing import Dict\n",
    "# Permite gravar dados em cache\n",
    "from functools import lru_cache\n",
    "\n",
    "\n",
    "# Fibonnaci sem memoization\n",
    "def fib2(n: int) -> int:\n",
    "    if n < 2:\n",
    "        return n\n",
    "    return fib2(n - 1) + fib2(n - 2)\n",
    "\n",
    "# Fibonacci com memoization\n",
    "memo: Dict[int, int] = {0: 0, 1: 1}\n",
    "def  fib3(n: int) -> int:\n",
    "    if n not in memo:\n",
    "        memo[n] = fib3(n - 1) + fib3(n - 2)\n",
    "    return memo[n]\n",
    "\n",
    "# Fibonacci com memoization automática\n",
    "@lru_cache(maxsize=None)\n",
    "def fib4(n: int) -> int:\n",
    "    if n < 2:\n",
    "        return n\n",
    "    return fib4(n - 1) + fib4(n - 2)\n",
    "\n",
    "# Fibonacci com iteração\n",
    "def fib5(n: int) -> int:\n",
    "    if n == 0: \n",
    "        return n\n",
    "    anterior: int = 0\n",
    "    posterior: int = 1\n",
    "    for _ in range(1, n):\n",
    "        anterior, posterior = (posterior, anterior + posterior)\n",
    "    return posterior\n",
    "\n",
    "# Fibonacci com gerador\n",
    "def fib6(n: int) -> Generator[int, None, None]:\n",
    "    if n == 0:\n",
    "        yield 0\n",
    "    anterior: int = 0\n",
    "    posterior: int = 1\n",
    "    for _ in range(1, n):\n",
    "        anterior, posterior = posterior, anterior + posterior\n",
    "    yield posterior\n"
   ]
  },
  {
   "cell_type": "markdown",
   "metadata": {},
   "source": [
    "Trabalha a compressão de dados com operações bit a bit. Os nucleotideos inseridos são transformados em uma dupla de bits e são acrescentados em uma cadeia de bits. "
   ]
  },
  {
   "cell_type": "code",
   "execution_count": 39,
   "metadata": {},
   "outputs": [
    {
     "name": "stdout",
     "output_type": "stream",
     "text": [
      "original: 4000049 bytes\n",
      "compressed: 1066692 bytes\n"
     ]
    }
   ],
   "source": [
    "class CompressedGene:\n",
    "    def __init__(self, gene: str) -> None:\n",
    "        self._compress(gene)\n",
    "\n",
    "\n",
    "    def __str__(self) -> str:\n",
    "        '''Faz a representação em string do objeto'''\n",
    "        return (self.decompress()) \n",
    "\n",
    "\n",
    "    def _compress(self, gene: str):\n",
    "        '''Recebe uma str de nucleotídeos e os armazena como uma cadeia de bits'''\n",
    "\n",
    "        # Começa com uma sentila\n",
    "        self.bit_string: int = 1\n",
    "\n",
    "        for nucleotide in gene.upper():\n",
    "            # Desloca dois bits à esquerda\n",
    "            self.bit_string <<= 2\n",
    "\n",
    "            # Muda os dois últimos bits para 00\n",
    "            if nucleotide == 'A':\n",
    "                self.bit_string |= 0b00\n",
    "            # Muda os dois últimos bits para 01\n",
    "            elif nucleotide == 'C':\n",
    "                self.bit_string |= 0b01\n",
    "            # Muda os dois últimos bits para 10\n",
    "            elif nucleotide == 'G':\n",
    "                self.bit_string |= 0b10\n",
    "            # Muda os dois últimos bits para 11\n",
    "            elif nucleotide == 'T':\n",
    "                self.bit_string|= 0b11\n",
    "            else:\n",
    "                raise ValueError(f'Invalid Nucleotide: {nucleotide}')\n",
    "    \n",
    "\n",
    "    def decompress(self) -> str:\n",
    "        '''Descompacta o nucleotídeo já compressado'''\n",
    "\n",
    "        gene: str = ''\n",
    "        \n",
    "        # -1 para excluir a sentinela\n",
    "        for i in range(0, self.bit_string.bit_length() - 1, 2):\n",
    "\n",
    "            # Obtém apenas os dois bits mais relevantes\n",
    "            bits: int = self.bit_string >> i & 0b11\n",
    "            \n",
    "            # A\n",
    "            if bits == 0b00:\n",
    "                gene += 'A'\n",
    "            # C\n",
    "            elif bits == 0b01:\n",
    "                gene += 'C'\n",
    "            # G\n",
    "            elif bits == 0b10:\n",
    "                gene += 'G'\n",
    "            # T\n",
    "            elif bits == 0b11:\n",
    "                gene += 'T'\n",
    "            else:\n",
    "                raise ValueError(f'Invalid bits: {bits}')\n",
    "        \n",
    "        # Retorna a string invertida usando fatiamento \n",
    "        return gene[::-1]\n",
    "\n",
    "\n",
    "if __name__ == '__main__':\n",
    "    # Permite saber quantos bits uma variavel ou objeto ocupa\n",
    "    from sys import getsizeof\n",
    "\n",
    "    original: str = 'ACGTAGTCCGTACGTAGTCCGTACGTACGTAGTCCACGTT' * 100000\n",
    "    compressed: CompressedGene = CompressedGene(original)\n",
    "\n",
    "    print(f'original: {getsizeof(original)} bytes')\n",
    "    print(f'compressed: {getsizeof(compressed.bit_string)} bytes')\n",
    "\n",
    "\n",
    "\n"
   ]
  },
  {
   "cell_type": "code",
   "execution_count": null,
   "metadata": {},
   "outputs": [],
   "source": []
  }
 ],
 "metadata": {
  "kernelspec": {
   "display_name": "Python 3.10.6 64-bit",
   "language": "python",
   "name": "python3"
  },
  "language_info": {
   "codemirror_mode": {
    "name": "ipython",
    "version": 3
   },
   "file_extension": ".py",
   "mimetype": "text/x-python",
   "name": "python",
   "nbconvert_exporter": "python",
   "pygments_lexer": "ipython3",
   "version": "3.10.6"
  },
  "orig_nbformat": 4,
  "vscode": {
   "interpreter": {
    "hash": "916dbcbb3f70747c44a77c7bcd40155683ae19c65e1c03b4aa3499c5328201f1"
   }
  }
 },
 "nbformat": 4,
 "nbformat_minor": 2
}
