{
 "cells": [
  {
   "cell_type": "code",
   "execution_count": 18,
   "metadata": {},
   "outputs": [
    {
     "data": {
      "text/html": [
       "<div>\n",
       "<style scoped>\n",
       "    .dataframe tbody tr th:only-of-type {\n",
       "        vertical-align: middle;\n",
       "    }\n",
       "\n",
       "    .dataframe tbody tr th {\n",
       "        vertical-align: top;\n",
       "    }\n",
       "\n",
       "    .dataframe thead th {\n",
       "        text-align: right;\n",
       "    }\n",
       "</style>\n",
       "<table border=\"1\" class=\"dataframe\">\n",
       "  <thead>\n",
       "    <tr style=\"text-align: right;\">\n",
       "      <th></th>\n",
       "      <th>X</th>\n",
       "      <th>y</th>\n",
       "    </tr>\n",
       "  </thead>\n",
       "  <tbody>\n",
       "    <tr>\n",
       "      <th>count</th>\n",
       "      <td>47.000000</td>\n",
       "      <td>47.000000</td>\n",
       "    </tr>\n",
       "    <tr>\n",
       "      <th>mean</th>\n",
       "      <td>2000.680851</td>\n",
       "      <td>340412.659574</td>\n",
       "    </tr>\n",
       "    <tr>\n",
       "      <th>std</th>\n",
       "      <td>794.702354</td>\n",
       "      <td>125039.899586</td>\n",
       "    </tr>\n",
       "    <tr>\n",
       "      <th>min</th>\n",
       "      <td>852.000000</td>\n",
       "      <td>169900.000000</td>\n",
       "    </tr>\n",
       "    <tr>\n",
       "      <th>25%</th>\n",
       "      <td>1432.000000</td>\n",
       "      <td>249900.000000</td>\n",
       "    </tr>\n",
       "    <tr>\n",
       "      <th>50%</th>\n",
       "      <td>1888.000000</td>\n",
       "      <td>299900.000000</td>\n",
       "    </tr>\n",
       "    <tr>\n",
       "      <th>75%</th>\n",
       "      <td>2269.000000</td>\n",
       "      <td>384450.000000</td>\n",
       "    </tr>\n",
       "    <tr>\n",
       "      <th>max</th>\n",
       "      <td>4478.000000</td>\n",
       "      <td>699900.000000</td>\n",
       "    </tr>\n",
       "  </tbody>\n",
       "</table>\n",
       "</div>"
      ],
      "text/plain": [
       "                 X              y\n",
       "count    47.000000      47.000000\n",
       "mean   2000.680851  340412.659574\n",
       "std     794.702354  125039.899586\n",
       "min     852.000000  169900.000000\n",
       "25%    1432.000000  249900.000000\n",
       "50%    1888.000000  299900.000000\n",
       "75%    2269.000000  384450.000000\n",
       "max    4478.000000  699900.000000"
      ]
     },
     "execution_count": 18,
     "metadata": {},
     "output_type": "execute_result"
    }
   ],
   "source": [
    "import numpy as np\n",
    "import pandas as pd\n",
    "from sklearn.model_selection import train_test_split\n",
    "\n",
    "# Cria o dataset\n",
    "dataset = pd.read_csv('dataset.csv', header=None)\n",
    "dataset.columns = ['X', 'y']\n",
    "dataset.describe()"
   ]
  },
  {
   "cell_type": "code",
   "execution_count": null,
   "metadata": {},
   "outputs": [],
   "source": [
    "class RegressaoLinear:\n",
    "    def __init__(self, X, y, lr, epochs) -> None:\n",
    "        # Dados de teste de 'X'\n",
    "        self.X = X\n",
    "        # Dados de teste de 'y' \n",
    "        self.y = y\n",
    "        # Taxa de aprendizado (Learning Rate) \n",
    "        self.lr = lr\n",
    "        # Numero de iterações\n",
    "        self.epochs = epochs\n",
    "        # Descompacta a tupla de linhas-colunas\n",
    "        self.m, self.n = self.X.shape\n",
    "        # Define a matriz de pesos com a qtd linhas igual qtd de colunas dos dados de treino\n",
    "        self.w = np.zeros((self.n, 1))\n",
    "        # Cria o bias igual a zero\n",
    "        self.b = 0\n"
   ]
  },
  {
   "cell_type": "code",
   "execution_count": 27,
   "metadata": {},
   "outputs": [
    {
     "data": {
      "text/plain": [
       "array([[-7.89466782e-01],\n",
       "       [-7.43677059e-01],\n",
       "       [-5.93588523e-01],\n",
       "       [-4.28236746e-01],\n",
       "       [ 1.44532608e+00],\n",
       "       [ 3.15099326e+00],\n",
       "       [-9.72625673e-01],\n",
       "       [-1.46104938e+00],\n",
       "       [ 3.80715024e-01],\n",
       "       [-6.44465993e-01],\n",
       "       [-8.65782986e-01],\n",
       "       [ 8.09357707e-01],\n",
       "       [ 5.00114703e-02],\n",
       "       [-1.89112638e-01],\n",
       "       [ 1.31415422e-01],\n",
       "       [-1.27280274e+00],\n",
       "       [-2.05647815e-01],\n",
       "       [-1.99450507e-02],\n",
       "       [-8.65999486e-04],\n",
       "       [-2.41262044e-01],\n",
       "       [-5.09640698e-01],\n",
       "       [ 3.01854946e-01],\n",
       "       [-1.43322915e-01],\n",
       "       [ 5.07908699e-01],\n",
       "       [-7.16966387e-01],\n",
       "       [-4.91995958e-02],\n",
       "       [ 1.67029651e-01],\n",
       "       [-7.71822042e-02],\n",
       "       [-5.04552951e-01],\n",
       "       [ 7.73743478e-01],\n",
       "       [-1.01459959e+00],\n",
       "       [-2.97227261e-01],\n",
       "       [-7.29685755e-01],\n",
       "       [ 7.20322135e-01],\n",
       "       [-9.31923697e-01],\n",
       "       [ 2.53521350e-01],\n",
       "       [ 2.81647389e+00]])"
      ]
     },
     "execution_count": 27,
     "metadata": {},
     "output_type": "execute_result"
    }
   ],
   "source": [
    "# Cria matrizes (1,1) das colunas 'X' e 'y' \n",
    "X, y = dataset['X'].values.reshape(-1, 1), dataset['y'].values.reshape(-1, 1)\n",
    "\n",
    "# Faz a normalização dos dados (formula da distribuição normal)\n",
    "X = (X - X.mean()) / X.std()\n",
    "y = (y - y.mean()) / y.std()\n",
    "\n",
    "# Separa os dados do dataset em subdatasets de treino-teste\n",
    "X_train, X_test, y_train, y_test = train_test_split(X, y, test_size=0.2, random_state=42)\n",
    "\n",
    "np.zeros((X_train.shape[1], 1))\n",
    "X_train\n"
   ]
  },
  {
   "cell_type": "code",
   "execution_count": null,
   "metadata": {},
   "outputs": [],
   "source": []
  }
 ],
 "metadata": {
  "kernelspec": {
   "display_name": "Python 3.10.6 64-bit",
   "language": "python",
   "name": "python3"
  },
  "language_info": {
   "codemirror_mode": {
    "name": "ipython",
    "version": 3
   },
   "file_extension": ".py",
   "mimetype": "text/x-python",
   "name": "python",
   "nbconvert_exporter": "python",
   "pygments_lexer": "ipython3",
   "version": "3.10.6"
  },
  "orig_nbformat": 4,
  "vscode": {
   "interpreter": {
    "hash": "916dbcbb3f70747c44a77c7bcd40155683ae19c65e1c03b4aa3499c5328201f1"
   }
  }
 },
 "nbformat": 4,
 "nbformat_minor": 2
}
