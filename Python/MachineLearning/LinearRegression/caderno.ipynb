{
 "cells": [
  {
   "cell_type": "code",
   "execution_count": 10,
   "metadata": {},
   "outputs": [
    {
     "data": {
      "text/html": [
       "<div>\n",
       "<style scoped>\n",
       "    .dataframe tbody tr th:only-of-type {\n",
       "        vertical-align: middle;\n",
       "    }\n",
       "\n",
       "    .dataframe tbody tr th {\n",
       "        vertical-align: top;\n",
       "    }\n",
       "\n",
       "    .dataframe thead th {\n",
       "        text-align: right;\n",
       "    }\n",
       "</style>\n",
       "<table border=\"1\" class=\"dataframe\">\n",
       "  <thead>\n",
       "    <tr style=\"text-align: right;\">\n",
       "      <th></th>\n",
       "      <th>X</th>\n",
       "      <th>y</th>\n",
       "    </tr>\n",
       "  </thead>\n",
       "  <tbody>\n",
       "    <tr>\n",
       "      <th>count</th>\n",
       "      <td>47.000000</td>\n",
       "      <td>47.000000</td>\n",
       "    </tr>\n",
       "    <tr>\n",
       "      <th>mean</th>\n",
       "      <td>2000.680851</td>\n",
       "      <td>340412.659574</td>\n",
       "    </tr>\n",
       "    <tr>\n",
       "      <th>std</th>\n",
       "      <td>794.702354</td>\n",
       "      <td>125039.899586</td>\n",
       "    </tr>\n",
       "    <tr>\n",
       "      <th>min</th>\n",
       "      <td>852.000000</td>\n",
       "      <td>169900.000000</td>\n",
       "    </tr>\n",
       "    <tr>\n",
       "      <th>25%</th>\n",
       "      <td>1432.000000</td>\n",
       "      <td>249900.000000</td>\n",
       "    </tr>\n",
       "    <tr>\n",
       "      <th>50%</th>\n",
       "      <td>1888.000000</td>\n",
       "      <td>299900.000000</td>\n",
       "    </tr>\n",
       "    <tr>\n",
       "      <th>75%</th>\n",
       "      <td>2269.000000</td>\n",
       "      <td>384450.000000</td>\n",
       "    </tr>\n",
       "    <tr>\n",
       "      <th>max</th>\n",
       "      <td>4478.000000</td>\n",
       "      <td>699900.000000</td>\n",
       "    </tr>\n",
       "  </tbody>\n",
       "</table>\n",
       "</div>"
      ],
      "text/plain": [
       "                 X              y\n",
       "count    47.000000      47.000000\n",
       "mean   2000.680851  340412.659574\n",
       "std     794.702354  125039.899586\n",
       "min     852.000000  169900.000000\n",
       "25%    1432.000000  249900.000000\n",
       "50%    1888.000000  299900.000000\n",
       "75%    2269.000000  384450.000000\n",
       "max    4478.000000  699900.000000"
      ]
     },
     "execution_count": 10,
     "metadata": {},
     "output_type": "execute_result"
    }
   ],
   "source": [
    "import numpy as np\n",
    "import pandas as pd\n",
    "from sklearn.model_selection import train_test_split\n",
    "\n",
    "# Cria o dataset\n",
    "dataset = pd.read_csv('dataset.csv', header=None)\n",
    "dataset.columns = ['X', 'y']\n",
    "dataset.describe()"
   ]
  },
  {
   "cell_type": "code",
   "execution_count": 11,
   "metadata": {},
   "outputs": [],
   "source": [
    "class LinearRegression:\n",
    "    def __init__(self, X, y, learning_rate, epochs) -> None:\n",
    "        # Taxa de aprendizado (Learning Rate) \n",
    "        self.learning_rate = learning_rate\n",
    "        # Numero de iterações\n",
    "        self.epochs = epochs\n",
    "        # Dados de treino\n",
    "        self.X = X\n",
    "        self.y = y\n",
    "        # Descompacta a tupla de linhas-colunas\n",
    "        self.m, self.n = self.X.shape\n",
    "        # Define a matriz de pesos com a qtd linhas igual qtd de colunas dos dados de treino\n",
    "        self.weights = np.zeros((self.n, 1))\n",
    "        # Cria o bias igual a zero\n",
    "        self.bias = 0\n",
    "\n",
    "\n",
    "    # Predição\n",
    "    def predict(self, X):\n",
    "        '''Cria o modelo linear'''\n",
    "        return np.dot(X, self.weights) + self.bias\n",
    "\n",
    "\n",
    "    # Gradiente\n",
    "    def gradient(self, y_predicted):\n",
    "        '''Calcula as derivadas e a taxa de erro que será usada na MSE'''\n",
    "        error = y_predicted - self.y\n",
    "        dw = (1/ self.n) * np.dot(self.X.T, error)\n",
    "        db = (1/ self.n) * np.sum(y_predicted - self.y)\n",
    "\n",
    "        return dw, db\n",
    "\n",
    "\n",
    "    # Função de custo\n",
    "    def MSE(self, y_predicted):\n",
    "        '''Eleva os erros ao quadrado e faz o somatório'''\n",
    "        return np.sum((y_predicted - self.y) ** 2) / self.m\n",
    "\n",
    "\n",
    "    # Gradiente Descendente\n",
    "    def GD(self):\n",
    "        '''Atualiza os pesos e o bias'''\n",
    "        for _ in range(self.epochs):\n",
    "            y_predicted = self.predict(self.X)\n",
    "            dw, db = self.gradient(y_predicted)\n",
    "            \n",
    "            self.weights = self.weights - (self.learning_rate * dw)\n",
    "            self.bias = self.bias - (self.learning_rate * db)"
   ]
  },
  {
   "cell_type": "code",
   "execution_count": 15,
   "metadata": {},
   "outputs": [],
   "source": [
    "# Cria matrizes (1,1) das colunas 'X' e 'y' \n",
    "X, y = dataset['X'].values.reshape(-1, 1), dataset['y'].values.reshape(-1, 1)\n",
    "\n",
    "# Faz a normalização dos dados (formula da distribuição normal)\n",
    "X = (X - X.mean()) / X.std()\n",
    "y = (y - y.mean()) / y.std()\n",
    "\n",
    "# Separa os dados do dataset em subdatasets de treino-teste\n",
    "X_train, X_test, y_train, y_test = train_test_split(X, y, test_size=0.2, random_state=42)"
   ]
  },
  {
   "cell_type": "code",
   "execution_count": 16,
   "metadata": {},
   "outputs": [],
   "source": [
    "model = LinearRegression(X=X_train, y=y_train, learning_rate=0.001, epochs=1000)\n",
    "model.GD()"
   ]
  },
  {
   "cell_type": "code",
   "execution_count": 19,
   "metadata": {},
   "outputs": [
    {
     "name": "stdout",
     "output_type": "stream",
     "text": [
      "[[1793.13795017]]\n"
     ]
    }
   ],
   "source": [
    "print(model.weights * 2100 + model.bias)"
   ]
  }
 ],
 "metadata": {
  "kernelspec": {
   "display_name": "Python 3.10.6 64-bit",
   "language": "python",
   "name": "python3"
  },
  "language_info": {
   "codemirror_mode": {
    "name": "ipython",
    "version": 3
   },
   "file_extension": ".py",
   "mimetype": "text/x-python",
   "name": "python",
   "nbconvert_exporter": "python",
   "pygments_lexer": "ipython3",
   "version": "3.10.6"
  },
  "orig_nbformat": 4,
  "vscode": {
   "interpreter": {
    "hash": "916dbcbb3f70747c44a77c7bcd40155683ae19c65e1c03b4aa3499c5328201f1"
   }
  }
 },
 "nbformat": 4,
 "nbformat_minor": 2
}
