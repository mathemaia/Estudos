{
 "cells": [
  {
   "cell_type": "code",
   "execution_count": 15,
   "metadata": {},
   "outputs": [],
   "source": [
    "import pandas as pd\n",
    "import numpy as np\n",
    "\n",
    "df = pd.read_csv('/home/matheus/GitHub/Estudos/Python/MachineLearning/LinearRegression/dados/data.csv')"
   ]
  },
  {
   "cell_type": "code",
   "execution_count": 93,
   "metadata": {},
   "outputs": [
    {
     "data": {
      "text/plain": [
       "(80, 1)"
      ]
     },
     "execution_count": 93,
     "metadata": {},
     "output_type": "execute_result"
    }
   ],
   "source": [
    "# X\n",
    "sqft_lot = df['sqft_lot'][:100].to_numpy()\n",
    "X_train = sqft_lot[:80].reshape(-1, 1)\n",
    "X_test = sqft_lot[80:100]\n",
    "\n",
    "# Y\n",
    "price = df['price'][:100].to_numpy()\n",
    "y_train = price[:80].reshape(-1, 1)\n",
    "y_test = price[80:100]\n",
    "\n",
    "X_train.shape"
   ]
  },
  {
   "cell_type": "code",
   "execution_count": 110,
   "metadata": {},
   "outputs": [],
   "source": [
    "class LinearRegression():\n",
    "    '''Classe interna neurônio'''\n",
    "    class Neuron():\n",
    "        '''Inicia os pesos, bias e os filhos'''\n",
    "        def __init__(self, weights, bias, child):\n",
    "            self.weights = np.random.random(weights).reshape(-1, 1).T\n",
    "            self.bias = bias\n",
    "            self.child = child\n",
    "            self.custo = []\n",
    "\n",
    "        '''Distribui a entrada para todos os neuronios da camada adjacente'''\n",
    "        def forward(self, X, y, lr):\n",
    "            # Faz a predição linear\n",
    "            pred = np.dot(X, self.weights) + self.bias\n",
    "\n",
    "            # Pega as dimensões do dataset\n",
    "            m, n = X.shape\n",
    "            \n",
    "            # Deriva e atualiza os pesos e o bias\n",
    "            dw, db = self.gradient(X, y, pred, n)\n",
    "            self.weights = self.weights - (lr * dw)\n",
    "            self.bias = self.bias - (lr * db)\n",
    "\n",
    "            # Envia uma predição calculada com os pesos atualizados\n",
    "            if self.child != None:\n",
    "                self.child.forward((np.dot(X, self.weights) + self.bias), y, lr)\n",
    "            \n",
    "            self.custo.append(np.sum((np.dot(X, self.weights) + self.bias) ** 2) / m)\n",
    "            \n",
    "        '''Faz o cálculo do gradiente'''\n",
    "        def gradient(self, X, y, pred, n):\n",
    "            error = pred - y\n",
    "\n",
    "            # Faz as derivadas dos pesos e bias\n",
    "        \n",
    "            print(error.shape)\n",
    "            dw = (1 / n) * np.dot(X.T, error)\n",
    "            db = (1 / n) * np.sum(error)\n",
    "\n",
    "            return dw, db\n",
    "\n",
    "\n",
    "    '''Inicia o modelo com o conjunto de entrada, a taxa de aprendizado e as camadas'''\n",
    "    def __init__(self, X, y, lr):\n",
    "        self.X = X\n",
    "        self.y = y\n",
    "        self.lr = lr\n",
    "        self.layers()\n",
    "\n",
    "    '''Função do tipo 'set'. Define as camadas e os neurônios delas (neste caso são duas)'''\n",
    "    def layers(self):\n",
    "        self.output_layer = self.Neuron(weights=3, bias=0, child=None)\n",
    "        self.input_layer = [self.Neuron(weights=10, bias=0, child=self.output_layer), \n",
    "                            self.Neuron(weights=10, bias=0, child=self.output_layer),\n",
    "                            self.Neuron(weights=10, bias=0, child=self.output_layer)]\n",
    "        \n",
    "    '''Calcula o gradiente descendente'''\n",
    "    def GD(self):\n",
    "        for i in range(0, 80, 10):\n",
    "            next = i\n",
    "            previous, next = next, i + 10\n",
    "\n",
    "            print(self.y[previous:next])\n",
    "            \n",
    "            self.input_layer[0].forward(self.X[previous:next], self.y[previous:next], self.lr)\n",
    "            self.input_layer[1].forward(self.X[previous:next], self.y[previous:next], self.lr)\n",
    "            self.input_layer[2].forward(self.X[previous:next], self.y[previous:next], self.lr)\n",
    "\n",
    "        return self.custo"
   ]
  },
  {
   "cell_type": "code",
   "execution_count": 111,
   "metadata": {},
   "outputs": [
    {
     "name": "stdout",
     "output_type": "stream",
     "text": [
      "[[ 313000.]\n",
      " [2384000.]\n",
      " [ 342000.]\n",
      " [ 420000.]\n",
      " [ 550000.]\n",
      " [ 490000.]\n",
      " [ 335000.]\n",
      " [ 482000.]\n",
      " [ 452500.]\n",
      " [ 640000.]]\n",
      "(10, 10)\n"
     ]
    },
    {
     "ename": "ValueError",
     "evalue": "shapes (10,10) and (1,3) not aligned: 10 (dim 1) != 1 (dim 0)",
     "output_type": "error",
     "traceback": [
      "\u001b[0;31m---------------------------------------------------------------------------\u001b[0m",
      "\u001b[0;31mValueError\u001b[0m                                Traceback (most recent call last)",
      "Cell \u001b[0;32mIn [111], line 3\u001b[0m\n\u001b[1;32m      1\u001b[0m model \u001b[39m=\u001b[39m LinearRegression(X_train, y_train, \u001b[39m0.001\u001b[39m)\n\u001b[0;32m----> 3\u001b[0m custo \u001b[39m=\u001b[39m model\u001b[39m.\u001b[39;49mGD()\n",
      "Cell \u001b[0;32mIn [110], line 65\u001b[0m, in \u001b[0;36mLinearRegression.GD\u001b[0;34m(self)\u001b[0m\n\u001b[1;32m     61\u001b[0m previous, \u001b[39mnext\u001b[39m \u001b[39m=\u001b[39m \u001b[39mnext\u001b[39m, i \u001b[39m+\u001b[39m \u001b[39m10\u001b[39m\n\u001b[1;32m     63\u001b[0m \u001b[39mprint\u001b[39m(\u001b[39mself\u001b[39m\u001b[39m.\u001b[39my[previous:\u001b[39mnext\u001b[39m])\n\u001b[0;32m---> 65\u001b[0m \u001b[39mself\u001b[39;49m\u001b[39m.\u001b[39;49minput_layer[\u001b[39m0\u001b[39;49m]\u001b[39m.\u001b[39;49mforward(\u001b[39mself\u001b[39;49m\u001b[39m.\u001b[39;49mX[previous:\u001b[39mnext\u001b[39;49m], \u001b[39mself\u001b[39;49m\u001b[39m.\u001b[39;49my[previous:\u001b[39mnext\u001b[39;49m], \u001b[39mself\u001b[39;49m\u001b[39m.\u001b[39;49mlr)\n\u001b[1;32m     66\u001b[0m \u001b[39mself\u001b[39m\u001b[39m.\u001b[39minput_layer[\u001b[39m1\u001b[39m]\u001b[39m.\u001b[39mforward(\u001b[39mself\u001b[39m\u001b[39m.\u001b[39mX[previous:\u001b[39mnext\u001b[39m], \u001b[39mself\u001b[39m\u001b[39m.\u001b[39my[previous:\u001b[39mnext\u001b[39m], \u001b[39mself\u001b[39m\u001b[39m.\u001b[39mlr)\n\u001b[1;32m     67\u001b[0m \u001b[39mself\u001b[39m\u001b[39m.\u001b[39minput_layer[\u001b[39m2\u001b[39m]\u001b[39m.\u001b[39mforward(\u001b[39mself\u001b[39m\u001b[39m.\u001b[39mX[previous:\u001b[39mnext\u001b[39m], \u001b[39mself\u001b[39m\u001b[39m.\u001b[39my[previous:\u001b[39mnext\u001b[39m], \u001b[39mself\u001b[39m\u001b[39m.\u001b[39mlr)\n",
      "Cell \u001b[0;32mIn [110], line 26\u001b[0m, in \u001b[0;36mLinearRegression.Neuron.forward\u001b[0;34m(self, X, y, lr)\u001b[0m\n\u001b[1;32m     24\u001b[0m \u001b[39m# Envia uma predição calculada com os pesos atualizados\u001b[39;00m\n\u001b[1;32m     25\u001b[0m \u001b[39mif\u001b[39;00m \u001b[39mself\u001b[39m\u001b[39m.\u001b[39mchild \u001b[39m!=\u001b[39m \u001b[39mNone\u001b[39;00m:\n\u001b[0;32m---> 26\u001b[0m     \u001b[39mself\u001b[39;49m\u001b[39m.\u001b[39;49mchild\u001b[39m.\u001b[39;49mforward((np\u001b[39m.\u001b[39;49mdot(X, \u001b[39mself\u001b[39;49m\u001b[39m.\u001b[39;49mweights) \u001b[39m+\u001b[39;49m \u001b[39mself\u001b[39;49m\u001b[39m.\u001b[39;49mbias), y, lr)\n\u001b[1;32m     28\u001b[0m \u001b[39mself\u001b[39m\u001b[39m.\u001b[39mcusto\u001b[39m.\u001b[39mappend(np\u001b[39m.\u001b[39msum((np\u001b[39m.\u001b[39mdot(X, \u001b[39mself\u001b[39m\u001b[39m.\u001b[39mweights) \u001b[39m+\u001b[39m \u001b[39mself\u001b[39m\u001b[39m.\u001b[39mbias) \u001b[39m*\u001b[39m\u001b[39m*\u001b[39m \u001b[39m2\u001b[39m) \u001b[39m/\u001b[39m m)\n",
      "Cell \u001b[0;32mIn [110], line 14\u001b[0m, in \u001b[0;36mLinearRegression.Neuron.forward\u001b[0;34m(self, X, y, lr)\u001b[0m\n\u001b[1;32m     12\u001b[0m \u001b[39mdef\u001b[39;00m \u001b[39mforward\u001b[39m(\u001b[39mself\u001b[39m, X, y, lr):\n\u001b[1;32m     13\u001b[0m     \u001b[39m# Faz a predição linear\u001b[39;00m\n\u001b[0;32m---> 14\u001b[0m     pred \u001b[39m=\u001b[39m np\u001b[39m.\u001b[39;49mdot(X, \u001b[39mself\u001b[39;49m\u001b[39m.\u001b[39;49mweights) \u001b[39m+\u001b[39m \u001b[39mself\u001b[39m\u001b[39m.\u001b[39mbias\n\u001b[1;32m     16\u001b[0m     \u001b[39m# Pega as dimensões do dataset\u001b[39;00m\n\u001b[1;32m     17\u001b[0m     m, n \u001b[39m=\u001b[39m X\u001b[39m.\u001b[39mshape\n",
      "File \u001b[0;32m<__array_function__ internals>:180\u001b[0m, in \u001b[0;36mdot\u001b[0;34m(*args, **kwargs)\u001b[0m\n",
      "\u001b[0;31mValueError\u001b[0m: shapes (10,10) and (1,3) not aligned: 10 (dim 1) != 1 (dim 0)"
     ]
    }
   ],
   "source": [
    "model = LinearRegression(X_train, y_train, 0.001)\n",
    "\n",
    "custo = model.GD()\n",
    "\n"
   ]
  }
 ],
 "metadata": {
  "kernelspec": {
   "display_name": "Python 3",
   "language": "python",
   "name": "python3"
  },
  "language_info": {
   "codemirror_mode": {
    "name": "ipython",
    "version": 3
   },
   "file_extension": ".py",
   "mimetype": "text/x-python",
   "name": "python",
   "nbconvert_exporter": "python",
   "pygments_lexer": "ipython3",
   "version": "3.10.6"
  },
  "orig_nbformat": 4,
  "vscode": {
   "interpreter": {
    "hash": "916dbcbb3f70747c44a77c7bcd40155683ae19c65e1c03b4aa3499c5328201f1"
   }
  }
 },
 "nbformat": 4,
 "nbformat_minor": 2
}
