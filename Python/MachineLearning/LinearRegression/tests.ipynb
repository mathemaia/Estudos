{
 "cells": [
  {
   "cell_type": "code",
   "execution_count": 44,
   "metadata": {},
   "outputs": [],
   "source": [
    "import pandas as pd\n",
    "import numpy as np\n",
    "import random\n",
    "\n",
    "df = pd.read_csv('/home/matheus/GitHub/Estudos/Python/MachineLearning/LinearRegression/dados/data.csv')"
   ]
  },
  {
   "cell_type": "code",
   "execution_count": 94,
   "metadata": {},
   "outputs": [],
   "source": [
    "# X\n",
    "sqft_lot = df['sqft_lot'][:100].to_numpy()\n",
    "X_train = sqft_lot[:80]\n",
    "X_test = sqft_lot[80:100]\n",
    "\n",
    "# Y\n",
    "price = df['price'][:100].to_numpy()\n",
    "y_train = price[:80]\n",
    "y_test = price[80:100]"
   ]
  },
  {
   "cell_type": "code",
   "execution_count": 109,
   "metadata": {},
   "outputs": [
    {
     "name": "stdout",
     "output_type": "stream",
     "text": [
      "43170.70156450473\n",
      "51512.55447218572\n",
      "135888.1366430899\n"
     ]
    }
   ],
   "source": [
    "class Neuron():\n",
    "    def __init__(self, X) -> None:\n",
    "        self.X = X\n",
    "        self.weights = np.random.rand(10)\n",
    "        self.bias = random.random()\n",
    "    \n",
    "    def predict(self):\n",
    "        return np.dot(self.X, self.weights) + self.bias\n",
    "\n",
    "\n",
    "n1 = Neuron(X_train[0:10])\n",
    "n2 = Neuron(X_train[0:10])\n",
    "n3 = Neuron(X_train[0:10])\n",
    "\n",
    "print(n1.predict())\n",
    "print(n2.predict())\n",
    "print(n3.predict())\n"
   ]
  },
  {
   "cell_type": "code",
   "execution_count": null,
   "metadata": {},
   "outputs": [],
   "source": [
    "# Separa a matriz de treino em amostras de 10\n",
    "for i in range(0, 100, 10):\n",
    "    next = i\n",
    "    previous, next = next, i + 10\n",
    "\n",
    "    "
   ]
  }
 ],
 "metadata": {
  "kernelspec": {
   "display_name": "Python 3",
   "language": "python",
   "name": "python3"
  },
  "language_info": {
   "codemirror_mode": {
    "name": "ipython",
    "version": 3
   },
   "file_extension": ".py",
   "mimetype": "text/x-python",
   "name": "python",
   "nbconvert_exporter": "python",
   "pygments_lexer": "ipython3",
   "version": "3.10.6"
  },
  "orig_nbformat": 4,
  "vscode": {
   "interpreter": {
    "hash": "916dbcbb3f70747c44a77c7bcd40155683ae19c65e1c03b4aa3499c5328201f1"
   }
  }
 },
 "nbformat": 4,
 "nbformat_minor": 2
}
