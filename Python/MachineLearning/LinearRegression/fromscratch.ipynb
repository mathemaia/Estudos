{
 "cells": [
  {
   "cell_type": "markdown",
   "metadata": {},
   "source": [
    "Modelo de rene neural simples com 3 neuronios"
   ]
  },
  {
   "cell_type": "code",
   "execution_count": 75,
   "metadata": {},
   "outputs": [],
   "source": [
    "import numpy as np\n",
    "import random \n",
    "\n",
    "X = np.random.randint(10)\n",
    "\n",
    "# Neuronio 1\n",
    "weights1 = np.random.rand(10)\n",
    "bias1 = random.randint(0, 10)\n",
    "\n",
    "# Neuronio 1\n",
    "weights2 = np.random.rand(10)\n",
    "bias2 = random.randint(0, 10)\n",
    "\n",
    "# Neuronio 1\n",
    "weights3 = np.random.rand(10)\n",
    "bias3 = random.randint(0, 10)\n",
    "\n",
    "# Camada com 3 neurônios\n",
    "layer = [np.dot(X, weights1) + bias1, np.dot(X, weights2) + bias2, np.dot(X, weights3) + bias3]"
   ]
  },
  {
   "cell_type": "code",
   "execution_count": 117,
   "metadata": {},
   "outputs": [
    {
     "name": "stdout",
     "output_type": "stream",
     "text": [
      "[30.2, 75.3, 120.4]\n"
     ]
    }
   ],
   "source": [
    "# Dados de entrada\n",
    "X = [50, 49, 48]\n",
    "\n",
    "# Parametros dos neuronios\n",
    "weights = [[0.1, 0.2, 0.3], [0.4, 0.5, 0.6], [0.7, 0.8, 0.9]]\n",
    "bias = [1, 2, 3]\n",
    "\n",
    "outputs = []\n",
    "for neuron in zip(weights, bias):\n",
    "    outputs.append(np.dot(X, neuron[0]) + neuron[1])\n"
   ]
  }
 ],
 "metadata": {
  "kernelspec": {
   "display_name": "Python 3.10.6 64-bit",
   "language": "python",
   "name": "python3"
  },
  "language_info": {
   "codemirror_mode": {
    "name": "ipython",
    "version": 3
   },
   "file_extension": ".py",
   "mimetype": "text/x-python",
   "name": "python",
   "nbconvert_exporter": "python",
   "pygments_lexer": "ipython3",
   "version": "3.10.6 (main, Nov 14 2022, 16:10:14) [GCC 11.3.0]"
  },
  "orig_nbformat": 4,
  "vscode": {
   "interpreter": {
    "hash": "916dbcbb3f70747c44a77c7bcd40155683ae19c65e1c03b4aa3499c5328201f1"
   }
  }
 },
 "nbformat": 4,
 "nbformat_minor": 2
}
