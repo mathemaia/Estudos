{
 "cells": [
  {
   "cell_type": "markdown",
   "metadata": {},
   "source": [
    "Modelo de rene neural simples com 3 neuronios"
   ]
  },
  {
   "cell_type": "code",
   "execution_count": 67,
   "metadata": {},
   "outputs": [
    {
     "data": {
      "text/plain": [
       "<matplotlib.collections.PathCollection at 0x7fbbf3090280>"
      ]
     },
     "execution_count": 67,
     "metadata": {},
     "output_type": "execute_result"
    },
    {
     "data": {
      "image/png": "[encoded data removed]",
      "text/plain": [
       "<Figure size 432x288 with 1 Axes>"
      ]
     },
     "metadata": {
      "needs_background": "light"
     },
     "output_type": "display_data"
    }
   ],
   "source": [
    "import pandas as pd\n",
    "import matplotlib.pyplot as plt\n",
    "import numpy as np\n",
    "import random as rand\n",
    "\n",
    "df = pd.read_csv('dados/house-price.csv')\n",
    "\n",
    "plt.scatter(x=df['Area'], y=df['Price'])"
   ]
  },
  {
   "cell_type": "code",
   "execution_count": 68,
   "metadata": {},
   "outputs": [
    {
     "data": {
      "text/html": [
       "<div>\n",
       "<style scoped>\n",
       "    .dataframe tbody tr th:only-of-type {\n",
       "        vertical-align: middle;\n",
       "    }\n",
       "\n",
       "    .dataframe tbody tr th {\n",
       "        vertical-align: top;\n",
       "    }\n",
       "\n",
       "    .dataframe thead th {\n",
       "        text-align: right;\n",
       "    }\n",
       "</style>\n",
       "<table border=\"1\" class=\"dataframe\">\n",
       "  <thead>\n",
       "    <tr style=\"text-align: right;\">\n",
       "      <th></th>\n",
       "      <th>Unnamed: 0</th>\n",
       "      <th>Address</th>\n",
       "      <th>Zip</th>\n",
       "      <th>Price</th>\n",
       "      <th>Area</th>\n",
       "      <th>Room</th>\n",
       "      <th>Lon</th>\n",
       "      <th>Lat</th>\n",
       "    </tr>\n",
       "  </thead>\n",
       "  <tbody>\n",
       "    <tr>\n",
       "      <th>0</th>\n",
       "      <td>1</td>\n",
       "      <td>Blasiusstraat 8 2, Amsterdam</td>\n",
       "      <td>1091 CR</td>\n",
       "      <td>685000.0</td>\n",
       "      <td>64</td>\n",
       "      <td>3</td>\n",
       "      <td>4.907736</td>\n",
       "      <td>52.356157</td>\n",
       "    </tr>\n",
       "    <tr>\n",
       "      <th>1</th>\n",
       "      <td>2</td>\n",
       "      <td>Kromme Leimuidenstraat 13 H, Amsterdam</td>\n",
       "      <td>1059 EL</td>\n",
       "      <td>475000.0</td>\n",
       "      <td>60</td>\n",
       "      <td>3</td>\n",
       "      <td>4.850476</td>\n",
       "      <td>52.348586</td>\n",
       "    </tr>\n",
       "    <tr>\n",
       "      <th>2</th>\n",
       "      <td>3</td>\n",
       "      <td>Zaaiersweg 11 A, Amsterdam</td>\n",
       "      <td>1097 SM</td>\n",
       "      <td>850000.0</td>\n",
       "      <td>109</td>\n",
       "      <td>4</td>\n",
       "      <td>4.944774</td>\n",
       "      <td>52.343782</td>\n",
       "    </tr>\n",
       "    <tr>\n",
       "      <th>3</th>\n",
       "      <td>4</td>\n",
       "      <td>Tenerifestraat 40, Amsterdam</td>\n",
       "      <td>1060 TH</td>\n",
       "      <td>580000.0</td>\n",
       "      <td>128</td>\n",
       "      <td>6</td>\n",
       "      <td>4.789928</td>\n",
       "      <td>52.343712</td>\n",
       "    </tr>\n",
       "    <tr>\n",
       "      <th>4</th>\n",
       "      <td>5</td>\n",
       "      <td>Winterjanpad 21, Amsterdam</td>\n",
       "      <td>1036 KN</td>\n",
       "      <td>720000.0</td>\n",
       "      <td>138</td>\n",
       "      <td>5</td>\n",
       "      <td>4.902503</td>\n",
       "      <td>52.410538</td>\n",
       "    </tr>\n",
       "    <tr>\n",
       "      <th>...</th>\n",
       "      <td>...</td>\n",
       "      <td>...</td>\n",
       "      <td>...</td>\n",
       "      <td>...</td>\n",
       "      <td>...</td>\n",
       "      <td>...</td>\n",
       "      <td>...</td>\n",
       "      <td>...</td>\n",
       "    </tr>\n",
       "    <tr>\n",
       "      <th>919</th>\n",
       "      <td>920</td>\n",
       "      <td>Ringdijk, Amsterdam</td>\n",
       "      <td>1097 AE</td>\n",
       "      <td>750000.0</td>\n",
       "      <td>117</td>\n",
       "      <td>1</td>\n",
       "      <td>4.927757</td>\n",
       "      <td>52.354173</td>\n",
       "    </tr>\n",
       "    <tr>\n",
       "      <th>920</th>\n",
       "      <td>921</td>\n",
       "      <td>Kleine Beerstraat 31, Amsterdam</td>\n",
       "      <td>1033 CP</td>\n",
       "      <td>350000.0</td>\n",
       "      <td>72</td>\n",
       "      <td>3</td>\n",
       "      <td>4.890612</td>\n",
       "      <td>52.414587</td>\n",
       "    </tr>\n",
       "    <tr>\n",
       "      <th>921</th>\n",
       "      <td>922</td>\n",
       "      <td>Stuyvesantstraat 33 II, Amsterdam</td>\n",
       "      <td>1058 AK</td>\n",
       "      <td>350000.0</td>\n",
       "      <td>51</td>\n",
       "      <td>3</td>\n",
       "      <td>4.856935</td>\n",
       "      <td>52.363256</td>\n",
       "    </tr>\n",
       "    <tr>\n",
       "      <th>922</th>\n",
       "      <td>923</td>\n",
       "      <td>John Blankensteinstraat 51, Amsterdam</td>\n",
       "      <td>1095 MB</td>\n",
       "      <td>599000.0</td>\n",
       "      <td>113</td>\n",
       "      <td>4</td>\n",
       "      <td>4.965731</td>\n",
       "      <td>52.375268</td>\n",
       "    </tr>\n",
       "    <tr>\n",
       "      <th>923</th>\n",
       "      <td>924</td>\n",
       "      <td>S. F. van Ossstraat 334, Amsterdam</td>\n",
       "      <td>1068 JS</td>\n",
       "      <td>300000.0</td>\n",
       "      <td>79</td>\n",
       "      <td>4</td>\n",
       "      <td>4.810678</td>\n",
       "      <td>52.355493</td>\n",
       "    </tr>\n",
       "  </tbody>\n",
       "</table>\n",
       "<p>920 rows × 8 columns</p>\n",
       "</div>"
      ],
      "text/plain": [
       "     Unnamed: 0                                 Address      Zip     Price  \\\n",
       "0             1            Blasiusstraat 8 2, Amsterdam  1091 CR  685000.0   \n",
       "1             2  Kromme Leimuidenstraat 13 H, Amsterdam  1059 EL  475000.0   \n",
       "2             3              Zaaiersweg 11 A, Amsterdam  1097 SM  850000.0   \n",
       "3             4            Tenerifestraat 40, Amsterdam  1060 TH  580000.0   \n",
       "4             5              Winterjanpad 21, Amsterdam  1036 KN  720000.0   \n",
       "..          ...                                     ...      ...       ...   \n",
       "919         920                     Ringdijk, Amsterdam  1097 AE  750000.0   \n",
       "920         921         Kleine Beerstraat 31, Amsterdam  1033 CP  350000.0   \n",
       "921         922       Stuyvesantstraat 33 II, Amsterdam  1058 AK  350000.0   \n",
       "922         923   John Blankensteinstraat 51, Amsterdam  1095 MB  599000.0   \n",
       "923         924      S. F. van Ossstraat 334, Amsterdam  1068 JS  300000.0   \n",
       "\n",
       "     Area  Room       Lon        Lat  \n",
       "0      64     3  4.907736  52.356157  \n",
       "1      60     3  4.850476  52.348586  \n",
       "2     109     4  4.944774  52.343782  \n",
       "3     128     6  4.789928  52.343712  \n",
       "4     138     5  4.902503  52.410538  \n",
       "..    ...   ...       ...        ...  \n",
       "919   117     1  4.927757  52.354173  \n",
       "920    72     3  4.890612  52.414587  \n",
       "921    51     3  4.856935  52.363256  \n",
       "922   113     4  4.965731  52.375268  \n",
       "923    79     4  4.810678  52.355493  \n",
       "\n",
       "[920 rows x 8 columns]"
      ]
     },
     "execution_count": 68,
     "metadata": {},
     "output_type": "execute_result"
    }
   ],
   "source": [
    "(\n",
    "    df[~(\n",
    "        df\n",
    "        .Price\n",
    "        .isna()\n",
    "        )\n",
    "        ]\n",
    ")"
   ]
  },
  {
   "attachments": {},
   "cell_type": "markdown",
   "metadata": {},
   "source": [
    "# Primeira versão"
   ]
  },
  {
   "cell_type": "code",
   "execution_count": 69,
   "metadata": {},
   "outputs": [
    {
     "name": "stdout",
     "output_type": "stream",
     "text": [
      "-684955.2191824416\n",
      "-448648.8880147414\n",
      "-772788.2832626927\n",
      "-381504.18700520997\n",
      "-438605.47634957667\n",
      "-309830.1074806569\n",
      "-205637.9252829062\n",
      "-350982.342634634\n",
      "-238827.10457492384\n",
      "-188252.50354152493\n",
      "-302099.5529692448\n",
      "-217255.29802325938\n",
      "-216844.85735510374\n",
      "-298839.9932465039\n",
      "-292735.42138203717\n",
      "-12379.10721992189\n",
      "-249269.39289440966\n",
      "39523.32440574793\n",
      "65238.55931348575\n",
      "-136962.27095166894\n",
      "-700029.3095644785\n",
      "-146034.90207279532\n",
      "100543.97939318325\n",
      "-72691.12387624558\n",
      "319354.2894565626\n",
      "160312.8245537522\n",
      "174184.60468852287\n",
      "-101731.05201885477\n",
      "-378835.541463675\n",
      "-91865.89831694239\n",
      "-179281.3441450789\n",
      "-270635.98056672676\n",
      "-136738.3061584438\n",
      "-1589645.4506583465\n",
      "442064.7838429074\n",
      "99080.11106636265\n",
      "190667.25683881738\n",
      "182559.98913216474\n",
      "133729.51508982643\n",
      "1023852.1309247771\n",
      "130100.04143559904\n",
      "72482.17414068733\n",
      "584523.3077701415\n",
      "44164.720922084234\n",
      "482865.2656511937\n",
      "137386.58966614265\n",
      "219070.99890828202\n",
      "527636.70491154\n",
      "238393.78074792598\n",
      "257890.98574422835\n",
      "273380.3966522231\n",
      "320130.95665632724\n",
      "73911.095311991\n",
      "-45373.33859940013\n",
      "147466.76253551734\n",
      "-78078.66983755457\n",
      "-213008.2905335495\n",
      "-241707.8561955695\n",
      "89509.76004693157\n",
      "150171.4798423819\n",
      "279618.6278791495\n",
      "79.33044839504873\n",
      "-32135.255108566605\n",
      "-4196.404973739875\n",
      "-29140.147034408117\n",
      "131295.26001937466\n",
      "57814.1397075447\n",
      "29326.470871589263\n",
      "12673.210574000084\n",
      "-34757.31177343009\n",
      "239683.54924246774\n",
      "102705.32175535755\n",
      "50955.11213427363\n",
      "nan\n",
      "nan\n",
      "nan\n",
      "nan\n",
      "nan\n",
      "nan\n",
      "nan\n",
      "nan\n",
      "nan\n",
      "nan\n",
      "nan\n",
      "nan\n",
      "nan\n",
      "nan\n",
      "nan\n",
      "nan\n",
      "nan\n",
      "nan\n",
      "nan\n",
      "nan\n",
      "nan\n",
      "nan\n",
      "nan\n",
      "nan\n",
      "nan\n",
      "nan\n",
      "nan\n"
     ]
    },
    {
     "data": {
      "text/plain": [
       "[<matplotlib.lines.Line2D at 0x7fbbf2efbbb0>]"
      ]
     },
     "execution_count": 69,
     "metadata": {},
     "output_type": "execute_result"
    },
    {
     "data": {
      "image/png": "[encoded data removed]",
      "text/plain": [
       "<Figure size 432x288 with 1 Axes>"
      ]
     },
     "metadata": {
      "needs_background": "light"
     },
     "output_type": "display_data"
    }
   ],
   "source": [
    "X_train = np.array(df['Area'][:100])\n",
    "y_train = np.array(df['Price'][:100])\n",
    "n = len(X_train)\n",
    "\n",
    "w = rand.random()\n",
    "b = 0\n",
    "lr = 0.001\n",
    "mse = []\n",
    "\n",
    "for i in range(0, 100):\n",
    "    pred = (X_train[i] * w) + b\n",
    "    \n",
    "    error = pred - y_train[i]\n",
    "    \n",
    "    print(error)\n",
    "    dw = (1/n) * X_train[i] * error\n",
    "    db = (1/n) * error\n",
    "\n",
    "    w = w - lr * dw\n",
    "    b = b - lr * db\n",
    "    \n",
    "    mse.append(error ** 2)\n",
    "    \n",
    "\n",
    "plt.plot(mse)"
   ]
  },
  {
   "attachments": {},
   "cell_type": "markdown",
   "metadata": {},
   "source": [
    "# Segunda versão"
   ]
  },
  {
   "cell_type": "code",
   "execution_count": 74,
   "metadata": {},
   "outputs": [],
   "source": [
    "X_train = (\n",
    "    df\n",
    "    .loc[~(\n",
    "        df\n",
    "        .Price\n",
    "        .isna()\n",
    "        )\n",
    "        ]\n",
    "        .Area\n",
    "        .iloc[:800]\n",
    "        .values\n",
    ")\n",
    "\n",
    "y_train = (\n",
    "    df\n",
    "    .loc[~(\n",
    "        df\n",
    "        .Price\n",
    "        .isna()\n",
    "        )\n",
    "        ]\n",
    "        .Price\n",
    "        .iloc[:800]\n",
    "        .values\n",
    ")"
   ]
  },
  {
   "cell_type": "code",
   "execution_count": 93,
   "metadata": {},
   "outputs": [
    {
     "data": {
      "text/plain": [
       "[<matplotlib.lines.Line2D at 0x7fbbf274b070>]"
      ]
     },
     "execution_count": 93,
     "metadata": {},
     "output_type": "execute_result"
    },
    {
     "data": {
      "image/png": "[encoded data removed]",
      "text/plain": [
       "<Figure size 432x288 with 1 Axes>"
      ]
     },
     "metadata": {
      "needs_background": "light"
     },
     "output_type": "display_data"
    }
   ],
   "source": [
    "# X_train = np.array(df['Area'][:100])\n",
    "# y_train = np.array(df['Price'][:100])\n",
    "n = len(X_train)\n",
    "\n",
    "w = rand.random()\n",
    "b = 0\n",
    "lr = 0.0001\n",
    "mse = []\n",
    "\n",
    "\n",
    "for e in range(10):\n",
    "    pred = (X_train * w) + b\n",
    "    error = pred - y_train\n",
    "\n",
    "    dw = (1/n) * X_train.T @ error\n",
    "    db = (1/n) * np.sum(error)\n",
    "\n",
    "    w = w - lr * dw\n",
    "    b = b - lr * db\n",
    "\n",
    "    mse.append(error @ error)\n",
    "     \n",
    "\n",
    "plt.plot(mse)\n"
   ]
  },
  {
   "cell_type": "code",
   "execution_count": 96,
   "metadata": {},
   "outputs": [],
   "source": [
    "g = []\n",
    "\n",
    "for x in range(600):\n",
    "    g.append(x * w + b)"
   ]
  },
  {
   "cell_type": "code",
   "execution_count": 85,
   "metadata": {},
   "outputs": [
    {
     "data": {
      "text/html": [
       "<div>\n",
       "<style scoped>\n",
       "    .dataframe tbody tr th:only-of-type {\n",
       "        vertical-align: middle;\n",
       "    }\n",
       "\n",
       "    .dataframe tbody tr th {\n",
       "        vertical-align: top;\n",
       "    }\n",
       "\n",
       "    .dataframe thead th {\n",
       "        text-align: right;\n",
       "    }\n",
       "</style>\n",
       "<table border=\"1\" class=\"dataframe\">\n",
       "  <thead>\n",
       "    <tr style=\"text-align: right;\">\n",
       "      <th></th>\n",
       "      <th>Unnamed: 0</th>\n",
       "      <th>Address</th>\n",
       "      <th>Zip</th>\n",
       "      <th>Price</th>\n",
       "      <th>Area</th>\n",
       "      <th>Room</th>\n",
       "      <th>Lon</th>\n",
       "      <th>Lat</th>\n",
       "    </tr>\n",
       "  </thead>\n",
       "  <tbody>\n",
       "    <tr>\n",
       "      <th>919</th>\n",
       "      <td>920</td>\n",
       "      <td>Ringdijk, Amsterdam</td>\n",
       "      <td>1097 AE</td>\n",
       "      <td>750000.0</td>\n",
       "      <td>117</td>\n",
       "      <td>1</td>\n",
       "      <td>4.927757</td>\n",
       "      <td>52.354173</td>\n",
       "    </tr>\n",
       "    <tr>\n",
       "      <th>920</th>\n",
       "      <td>921</td>\n",
       "      <td>Kleine Beerstraat 31, Amsterdam</td>\n",
       "      <td>1033 CP</td>\n",
       "      <td>350000.0</td>\n",
       "      <td>72</td>\n",
       "      <td>3</td>\n",
       "      <td>4.890612</td>\n",
       "      <td>52.414587</td>\n",
       "    </tr>\n",
       "    <tr>\n",
       "      <th>921</th>\n",
       "      <td>922</td>\n",
       "      <td>Stuyvesantstraat 33 II, Amsterdam</td>\n",
       "      <td>1058 AK</td>\n",
       "      <td>350000.0</td>\n",
       "      <td>51</td>\n",
       "      <td>3</td>\n",
       "      <td>4.856935</td>\n",
       "      <td>52.363256</td>\n",
       "    </tr>\n",
       "    <tr>\n",
       "      <th>922</th>\n",
       "      <td>923</td>\n",
       "      <td>John Blankensteinstraat 51, Amsterdam</td>\n",
       "      <td>1095 MB</td>\n",
       "      <td>599000.0</td>\n",
       "      <td>113</td>\n",
       "      <td>4</td>\n",
       "      <td>4.965731</td>\n",
       "      <td>52.375268</td>\n",
       "    </tr>\n",
       "    <tr>\n",
       "      <th>923</th>\n",
       "      <td>924</td>\n",
       "      <td>S. F. van Ossstraat 334, Amsterdam</td>\n",
       "      <td>1068 JS</td>\n",
       "      <td>300000.0</td>\n",
       "      <td>79</td>\n",
       "      <td>4</td>\n",
       "      <td>4.810678</td>\n",
       "      <td>52.355493</td>\n",
       "    </tr>\n",
       "  </tbody>\n",
       "</table>\n",
       "</div>"
      ],
      "text/plain": [
       "     Unnamed: 0                                Address      Zip     Price  \\\n",
       "919         920                    Ringdijk, Amsterdam  1097 AE  750000.0   \n",
       "920         921        Kleine Beerstraat 31, Amsterdam  1033 CP  350000.0   \n",
       "921         922      Stuyvesantstraat 33 II, Amsterdam  1058 AK  350000.0   \n",
       "922         923  John Blankensteinstraat 51, Amsterdam  1095 MB  599000.0   \n",
       "923         924     S. F. van Ossstraat 334, Amsterdam  1068 JS  300000.0   \n",
       "\n",
       "     Area  Room       Lon        Lat  \n",
       "919   117     1  4.927757  52.354173  \n",
       "920    72     3  4.890612  52.414587  \n",
       "921    51     3  4.856935  52.363256  \n",
       "922   113     4  4.965731  52.375268  \n",
       "923    79     4  4.810678  52.355493  "
      ]
     },
     "execution_count": 85,
     "metadata": {},
     "output_type": "execute_result"
    }
   ],
   "source": [
    "df.tail()"
   ]
  },
  {
   "cell_type": "code",
   "execution_count": 108,
   "metadata": {},
   "outputs": [
    {
     "data": {
      "image/png": "[encoded data removed]",
      "text/plain": [
       "<Figure size 432x288 with 1 Axes>"
      ]
     },
     "metadata": {
      "needs_background": "light"
     },
     "output_type": "display_data"
    }
   ],
   "source": [
    "plt.plot(g, color='orange')\n",
    "plt.scatter(X_train, y_train)\n",
    "plt.show()\n"
   ]
  }
 ],
 "metadata": {
  "kernelspec": {
   "display_name": "Python 3.10.6 64-bit",
   "language": "python",
   "name": "python3"
  },
  "language_info": {
   "codemirror_mode": {
    "name": "ipython",
    "version": 3
   },
   "file_extension": ".py",
   "mimetype": "text/x-python",
   "name": "python",
   "nbconvert_exporter": "python",
   "pygments_lexer": "ipython3",
   "version": "3.10.6"
  },
  "orig_nbformat": 4,
  "vscode": {
   "interpreter": {
    "hash": "916dbcbb3f70747c44a77c7bcd40155683ae19c65e1c03b4aa3499c5328201f1"
   }
  }
 },
 "nbformat": 4,
 "nbformat_minor": 2
}
