{
 "cells": [
  {
   "cell_type": "markdown",
   "metadata": {},
   "source": [
    "# Exercícios de programação funcional:"
   ]
  },
  {
   "cell_type": "markdown",
   "metadata": {},
   "source": [
    "**1. Crie uma função pura que transforma uma lista nativa em uma lista encadeada.**"
   ]
  },
  {
   "cell_type": "code",
   "execution_count": 23,
   "metadata": {},
   "outputs": [
    {
     "data": {
      "text/plain": [
       "(0, (1, (2, (3, (4, None)))))"
      ]
     },
     "execution_count": 23,
     "metadata": {},
     "output_type": "execute_result"
    }
   ],
   "source": [
    "l1 = [0, 1, 2, 3, 4]\n",
    "\n",
    "def lista_encadeada(lista):\n",
    "    if not lista:\n",
    "        return None\n",
    "    else:\n",
    "        return (lista[0], lista_encadeada(lista[1:]))\n",
    "\n",
    "lista_encadeada(l1)\n"
   ]
  },
  {
   "cell_type": "markdown",
   "metadata": {},
   "source": [
    "**2. Crie uma função pura que transforma uma lista encadeada em uma lista normal.**"
   ]
  },
  {
   "cell_type": "code",
   "execution_count": 15,
   "metadata": {},
   "outputs": [],
   "source": [
    "# Funções para usar como ponteiros.\n",
    "def head(lista):\n",
    "        return lista[0]\n",
    "def tail(lista):\n",
    "    return lista[1]\n"
   ]
  },
  {
   "cell_type": "code",
   "execution_count": 22,
   "metadata": {},
   "outputs": [
    {
     "data": {
      "text/plain": [
       "[0, 1, 2, 3, 4, 5]"
      ]
     },
     "execution_count": 22,
     "metadata": {},
     "output_type": "execute_result"
    }
   ],
   "source": [
    "l2 = (0, (1, (2, (3, (4, (5, None))))))\n",
    "\n",
    "def lista_nativa(lista):\n",
    "    if not lista:\n",
    "        return []\n",
    "    else:\n",
    "        h = head(lista)\n",
    "        t = tail(lista)\n",
    "        return [h] + lista_nativa(t)\n",
    "\n",
    "lista_nativa(l2)"
   ]
  },
  {
   "cell_type": "markdown",
   "metadata": {},
   "source": [
    "**3. Crie uma função pura que retorne a quantidade de elementos de uma lista encadeada.**"
   ]
  },
  {
   "cell_type": "code",
   "execution_count": 21,
   "metadata": {},
   "outputs": [
    {
     "data": {
      "text/plain": [
       "6"
      ]
     },
     "execution_count": 21,
     "metadata": {},
     "output_type": "execute_result"
    }
   ],
   "source": [
    "def qtd_elementos(lista):\n",
    "    if not lista:\n",
    "        return 0\n",
    "    else:\n",
    "        t = tail(lista)\n",
    "        return 1 + qtd_elementos(t)\n",
    "\n",
    "qtd_elementos(l2)"
   ]
  },
  {
   "cell_type": "markdown",
   "metadata": {},
   "source": [
    "**4. Desenvolva o algoritmo MergeSort com lista encadeada imutável.**"
   ]
  },
  {
   "cell_type": "code",
   "execution_count": 25,
   "metadata": {},
   "outputs": [
    {
     "name": "stdout",
     "output_type": "stream",
     "text": [
      "6\n"
     ]
    }
   ],
   "source": [
    "l3 = (5, (1, (4, (3, (0, (2, None))))))\n",
    "\n",
    "def merge_sort(lista):\n",
    "    tam = qtd_elementos(lista)\n",
    "    t = tail(lista)\n",
    "\n",
    "\n",
    "    return \n",
    "\n",
    "print(merge_sort(l3))"
   ]
  },
  {
   "cell_type": "code",
   "execution_count": null,
   "metadata": {},
   "outputs": [],
   "source": []
  }
 ],
 "metadata": {
  "kernelspec": {
   "display_name": "Python 3.10.6 64-bit",
   "language": "python",
   "name": "python3"
  },
  "language_info": {
   "codemirror_mode": {
    "name": "ipython",
    "version": 3
   },
   "file_extension": ".py",
   "mimetype": "text/x-python",
   "name": "python",
   "nbconvert_exporter": "python",
   "pygments_lexer": "ipython3",
   "version": "3.10.6"
  },
  "orig_nbformat": 4,
  "vscode": {
   "interpreter": {
    "hash": "916dbcbb3f70747c44a77c7bcd40155683ae19c65e1c03b4aa3499c5328201f1"
   }
  }
 },
 "nbformat": 4,
 "nbformat_minor": 2
}
