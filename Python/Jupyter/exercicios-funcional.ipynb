{
 "cells": [
  {
   "cell_type": "markdown",
   "metadata": {},
   "source": [
    "# Exercicios de programação funcional:"
   ]
  },
  {
   "cell_type": "markdown",
   "metadata": {},
   "source": [
    "1. Crie uma função pura que transforma uma lista nativa em uma lista encadeada"
   ]
  },
  {
   "cell_type": "code",
   "execution_count": 20,
   "metadata": {},
   "outputs": [
    {
     "name": "stdout",
     "output_type": "stream",
     "text": [
      "(0, (1, (2, (3, (4, None)))))\n"
     ]
    }
   ],
   "source": [
    "def linked_list(lista):\n",
    "    if not lista:\n",
    "        return None\n",
    "    else:\n",
    "        return (lista[0], linked_list(lista[1:]))\n",
    "\n",
    "l1 = [0, 1, 2, 3, 4]\n",
    "\n",
    "print(linked_list(l1))\n"
   ]
  },
  {
   "cell_type": "markdown",
   "metadata": {},
   "source": [
    "2. Crie uma função pura que transforma uma lista encadeada em uma lista normal"
   ]
  },
  {
   "cell_type": "code",
   "execution_count": 22,
   "metadata": {},
   "outputs": [
    {
     "name": "stdout",
     "output_type": "stream",
     "text": [
      "[0, 1, 2, 3, 4]\n"
     ]
    }
   ],
   "source": [
    "def native_list(l):\n",
    "    def head(l):\n",
    "        return l[0]\n",
    "    def tail(l):\n",
    "        return l[1]\n",
    "\n",
    "    if not l:\n",
    "        return []\n",
    "    else:\n",
    "        h = head(l)\n",
    "        t = tail(l)\n",
    "        return [h] + native_list(t)\n",
    "\n",
    "l2 = (0, (1, (2, (3, (4, None)))))\n",
    "print(native_list(l2))"
   ]
  },
  {
   "cell_type": "code",
   "execution_count": null,
   "metadata": {},
   "outputs": [],
   "source": []
  }
 ],
 "metadata": {
  "kernelspec": {
   "display_name": "Python 3.10.6 64-bit",
   "language": "python",
   "name": "python3"
  },
  "language_info": {
   "codemirror_mode": {
    "name": "ipython",
    "version": 3
   },
   "file_extension": ".py",
   "mimetype": "text/x-python",
   "name": "python",
   "nbconvert_exporter": "python",
   "pygments_lexer": "ipython3",
   "version": "3.10.6"
  },
  "orig_nbformat": 4,
  "vscode": {
   "interpreter": {
    "hash": "916dbcbb3f70747c44a77c7bcd40155683ae19c65e1c03b4aa3499c5328201f1"
   }
  }
 },
 "nbformat": 4,
 "nbformat_minor": 2
}
