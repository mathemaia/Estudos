{
 "cells": [
  {
   "cell_type": "markdown",
   "id": "1748ae2e",
   "metadata": {},
   "source": [
    "# [Prof. Dalvan Griebler](mailto:dalvan.griebler@pucrs.br)\n",
    "\n",
    "## Programação Orientada a Dados (POD) - Turma 10 (POD_98H04-06)\n",
    "\n",
    "**Atualizado**: 20/09/2021\n",
    "\n",
    "**Descrição**: Material de apoio as aulas sobre Python para POD\n",
    "\n",
    "**Copyright &copy;**: Este documento está sob a licensa da Criative Commons [BY-NC-ND 4.0](https://creativecommons.org/licenses/by-nc-nd/4.0/legalcode)"
   ]
  },
  {
   "cell_type": "markdown",
   "id": "d94dc6c0",
   "metadata": {},
   "source": [
    "# Iterável, Iteradores, Geradores e Co-rotinas em Python"
   ]
  },
  {
   "cell_type": "markdown",
   "id": "707b6084",
   "metadata": {},
   "source": [
    "## Iterável e Iteradores"
   ]
  },
  {
   "cell_type": "markdown",
   "id": "be9a1f28-b64f-4e9a-9dec-b13961e653b2",
   "metadata": {},
   "source": [
    "Usado para programação orientada a objetos."
   ]
  },
  {
   "cell_type": "code",
   "execution_count": 3,
   "id": "e145ec8c",
   "metadata": {},
   "outputs": [
    {
     "name": "stdout",
     "output_type": "stream",
     "text": [
      "2\n",
      "4\n",
      "6\n",
      "8\n",
      "10\n"
     ]
    }
   ],
   "source": [
    "class Pares:\n",
    "    def __init__(self, limite):\n",
    "        \"\"\"Construtor\"\"\"\n",
    "        self.__limite = limite\n",
    "        self.__valor = 0\n",
    "    \n",
    "    def __iter__(self):\n",
    "        \"\"\"Método iterador\"\"\"\n",
    "        return self\n",
    "    \n",
    "    def __next__(self):\n",
    "        \"\"\"Este método é chamado a cada iteração\"\"\"\n",
    "        if self.__valor >= self.__limite:\n",
    "            raise StopIteration\n",
    "        else:\n",
    "            self.__valor+=2\n",
    "            return self.__valor\n",
    "\n",
    "        \n",
    "if __name__ == '__main__':\n",
    "    for i in Pares(10):\n",
    "        print(i)"
   ]
  },
  {
   "cell_type": "markdown",
   "id": "8728b23c",
   "metadata": {},
   "source": [
    "## Geradores (produtores de dados)"
   ]
  },
  {
   "cell_type": "markdown",
   "id": "d0874c76-048f-4715-b0f5-b0577b7e7c33",
   "metadata": {},
   "source": [
    "Usado para programação funcional."
   ]
  },
  {
   "cell_type": "code",
   "execution_count": 2,
   "id": "a74a3477-a16a-4c05-8d51-ed98238e9e0e",
   "metadata": {},
   "outputs": [
    {
     "name": "stdout",
     "output_type": "stream",
     "text": [
      "1\n",
      "2\n",
      "4\n",
      "10\n"
     ]
    }
   ],
   "source": [
    "def gera_numeros():\n",
    "    yield 1\n",
    "    yield 2\n",
    "    yield 4\n",
    "    yield 10\n",
    "\n",
    "for i in gera_numeros():\n",
    "    print(i)"
   ]
  },
  {
   "cell_type": "code",
   "execution_count": 4,
   "id": "d47d9bf7-af0c-40e4-bb39-19eb9d260f9c",
   "metadata": {},
   "outputs": [
    {
     "name": "stdout",
     "output_type": "stream",
     "text": [
      "0\n",
      "2\n",
      "4\n",
      "6\n",
      "8\n",
      "10\n"
     ]
    }
   ],
   "source": [
    "def pares(limite: int) -> None:\n",
    "    valor = 0\n",
    "    while valor <= limite:\n",
    "        yield valor\n",
    "        valor += 2\n",
    "\n",
    "for i in pares(10):\n",
    "    print(i)"
   ]
  },
  {
   "cell_type": "markdown",
   "id": "81c3084a-bd94-453f-9f46-3cbf806669a6",
   "metadata": {},
   "source": [
    "Modo funcional de trabalhar com funções geradoras"
   ]
  },
  {
   "cell_type": "code",
   "execution_count": null,
   "id": "894ee952-e7f5-4c31-88bf-67b70c028f51",
   "metadata": {},
   "outputs": [],
   "source": []
  },
  {
   "cell_type": "markdown",
   "id": "b3abcd86",
   "metadata": {},
   "source": [
    "## Co-rotinas (consumidores de dados)"
   ]
  },
  {
   "cell_type": "code",
   "execution_count": 5,
   "id": "19a1a953",
   "metadata": {},
   "outputs": [
    {
     "name": "stdout",
     "output_type": "stream",
     "text": [
      "Python é legal!\n",
      "Saindo da co-rotina\n"
     ]
    }
   ],
   "source": [
    "def encontrar(padrao):\n",
    "    try: \n",
    "        while True:\n",
    "            linha = yield\n",
    "            if padrao in linha:\n",
    "                print(linha)\n",
    "    except GeneratorExit:\n",
    "        print('Saindo da co-rotina')\n",
    "    \n",
    "    \n",
    "if __name__ == '__main__':\n",
    "    e = encontrar('Python')\n",
    "    next(e)\n",
    "    e.send('Java é legal!')\n",
    "    e.send('Python é legal!')\n",
    "    e.close()"
   ]
  },
  {
   "cell_type": "markdown",
   "id": "5168a0aa",
   "metadata": {},
   "source": [
    "# Exercícios de Fixação sobre Geradores\n",
    "\n",
    "Implemente um gerador de números primos que precisa ter um limite `gerador_numero_primo(limite)`. Você precisa ser capaz de rodar o seguinte código\n",
    "```python\n",
    "numero = input(\"Digite um número:\")\n",
    "if numero.isnumeric():\n",
    "    num = int(numero)\n",
    "    if num <= 2:\n",
    "        print(\"Seu número precisa ser > 2\")\n",
    "    else:\n",
    "        for primo in gerador_numero_primo(num):\n",
    "            print(primo, end=', ')\n",
    "else:\n",
    "    print(\"Precisa ser um número positivo inteiro!\")\n",
    "```\n",
    "\n",
    "Depois, crie um gerador de números primos infinito `gerador_numero_primo_infinito()`, sendo capaz de gerar números primos até que não seja mais usado. Teste usando `next()`. Neste caso, será teste com seguinte código.\n",
    "\n",
    "```python\n",
    "primo = gerador_numero_primo_infinito()\n",
    "print(next(primo))\n",
    "print(next(primo))\n",
    "print(next(primo))\n",
    "print(next(primo))\n",
    "print(next(primo))\n",
    "\n",
    "```"
   ]
  },
  {
   "cell_type": "code",
   "execution_count": null,
   "id": "ce7bb4a5",
   "metadata": {},
   "outputs": [],
   "source": []
  }
 ],
 "metadata": {
  "kernelspec": {
   "display_name": "Python 3 (ipykernel)",
   "language": "python",
   "name": "python3"
  },
  "language_info": {
   "codemirror_mode": {
    "name": "ipython",
    "version": 3
   },
   "file_extension": ".py",
   "mimetype": "text/x-python",
   "name": "python",
   "nbconvert_exporter": "python",
   "pygments_lexer": "ipython3",
   "version": "3.8.8"
  }
 },
 "nbformat": 4,
 "nbformat_minor": 5
}
