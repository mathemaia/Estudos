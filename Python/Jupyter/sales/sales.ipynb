{
 "cells": [
  {
   "cell_type": "markdown",
   "metadata": {},
   "source": [
    "# Dataframe\n",
    "Dataframe artificial que simula vendas de uma loja na região metropolitana do Rio Grande do Sul."
   ]
  },
  {
   "cell_type": "code",
   "execution_count": 90,
   "metadata": {},
   "outputs": [],
   "source": [
    "import pandas as pd\n",
    "import random as rand\n",
    "\n",
    "cidades = ['Porto Alegre', 'Alvorada', 'Canoas', 'Cachoeirinha', 'Gravataí', 'Viamão', 'Guaiba', \n",
    "'Eldorado do sul', 'Esteio', 'Sapucaia do Sul', 'São Leopoldo', 'Novo Hamburgo', 'Nova Santa Rita',\n",
    "'Triunfo', 'Charqueadas', 'Montenegro', 'Capela de Santana', 'Portão', 'Estância Velha', 'Ivoti', \n",
    "'Dois Irmãos', 'Sapiranga', 'Campo Bom', 'Araricá', 'Nova Hartz', 'Parobé', 'Taquara', 'Glorinha', \n",
    "'Arroio dos Ratos', 'São Jerônimo', 'Santo Antônio da Patrulha', 'Rolante', 'São sebastião do Caí']\n",
    "\n",
    "datas = pd.date_range('20180101', periods=1095)\n",
    "\n",
    "df = pd.DataFrame(0, index=datas, columns=cidades)\n",
    "df['Total'] = df.shape[1]\n",
    "\n",
    "df.to_csv('df.csv')\n",
    "\n",
    "\n",
    "\n"
   ]
  },
  {
   "cell_type": "code",
   "execution_count": null,
   "metadata": {},
   "outputs": [],
   "source": []
  }
 ],
 "metadata": {
  "kernelspec": {
   "display_name": "Python 3.10.4 64-bit",
   "language": "python",
   "name": "python3"
  },
  "language_info": {
   "codemirror_mode": {
    "name": "ipython",
    "version": 3
   },
   "file_extension": ".py",
   "mimetype": "text/x-python",
   "name": "python",
   "nbconvert_exporter": "python",
   "pygments_lexer": "ipython3",
   "version": "3.10.4"
  },
  "orig_nbformat": 4,
  "vscode": {
   "interpreter": {
    "hash": "916dbcbb3f70747c44a77c7bcd40155683ae19c65e1c03b4aa3499c5328201f1"
   }
  }
 },
 "nbformat": 4,
 "nbformat_minor": 2
}
